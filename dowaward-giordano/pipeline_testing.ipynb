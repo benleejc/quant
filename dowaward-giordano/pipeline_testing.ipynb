{
 "cells": [
  {
   "cell_type": "code",
   "execution_count": 1,
   "id": "initial_id",
   "metadata": {
    "collapsed": true,
    "ExecuteTime": {
     "end_time": "2024-03-24T14:33:30.392666Z",
     "start_time": "2024-03-24T14:33:29.458253Z"
    }
   },
   "outputs": [],
   "source": [
    "from data.data_pipelines import etl_dowaward_giordano"
   ]
  },
  {
   "cell_type": "code",
   "execution_count": 2,
   "id": "330b332e55374b0a",
   "metadata": {
    "collapsed": false,
    "ExecuteTime": {
     "end_time": "2024-03-24T14:33:31.437779Z",
     "start_time": "2024-03-24T14:33:31.420604Z"
    }
   },
   "outputs": [],
   "source": [
    "%load_ext autoreload\n",
    "%autoreload 2"
   ]
  },
  {
   "cell_type": "code",
   "execution_count": 21,
   "id": "5c7a788a6a8a6174",
   "metadata": {
    "collapsed": false,
    "ExecuteTime": {
     "end_time": "2024-03-24T14:39:54.396399Z",
     "start_time": "2024-03-24T14:39:43.726597Z"
    }
   },
   "outputs": [
    {
     "name": "stdout",
     "output_type": "stream",
     "text": [
      "querying database.. \n",
      "2024-03-24 22:39:43,745 INFO sqlalchemy.engine.Engine BEGIN (implicit)\n",
      "2024-03-24 22:39:43,745 INFO sqlalchemy.engine.Engine SELECT stock_prices.id, stock_prices.ticker, stock_prices.price_date, stock_prices.open, stock_prices.close, stock_prices.adjusted_close, stock_prices.high, stock_prices.low, stock_prices.volume, stock_prices.data_source, stock_prices.update_date \n",
      "FROM stock_prices\n",
      "2024-03-24 22:39:43,746 INFO sqlalchemy.engine.Engine [generated in 0.00068s] ()\n",
      "2024-03-24 22:39:44,002 INFO sqlalchemy.engine.Engine ROLLBACK\n",
      "calculating returns..\n",
      "calculating garch..\n"
     ]
    }
   ],
   "source": [
    "df = etl_dowaward_giordano()"
   ]
  },
  {
   "cell_type": "code",
   "execution_count": 7,
   "id": "c24d9662",
   "metadata": {
    "ExecuteTime": {
     "end_time": "2024-03-24T14:34:38.055685Z",
     "start_time": "2024-03-24T14:34:38.001246Z"
    }
   },
   "outputs": [
    {
     "data": {
      "text/plain": "           correlation                                       ...  \\\nticker             AGG DBC EEM EFA IGOV IJH IJR RWR SHY VAW  ...   \nprice_date                                                   ...   \n2000-05-26         NaN NaN NaN NaN  NaN NaN NaN NaN NaN NaN  ...   \n2000-05-30         NaN NaN NaN NaN  NaN NaN NaN NaN NaN NaN  ...   \n2000-05-31         NaN NaN NaN NaN  NaN NaN NaN NaN NaN NaN  ...   \n2000-06-01         NaN NaN NaN NaN  NaN NaN NaN NaN NaN NaN  ...   \n2000-06-02         NaN NaN NaN NaN  NaN NaN NaN NaN NaN NaN  ...   \n...                ...  ..  ..  ..  ...  ..  ..  ..  ..  ..  ...   \n2024-03-18         NaN NaN NaN NaN  NaN NaN NaN NaN NaN NaN  ...   \n2024-03-19         NaN NaN NaN NaN  NaN NaN NaN NaN NaN NaN  ...   \n2024-03-20         NaN NaN NaN NaN  NaN NaN NaN NaN NaN NaN  ...   \n2024-03-21         NaN NaN NaN NaN  NaN NaN NaN NaN NaN NaN  ...   \n2024-03-22         NaN NaN NaN NaN  NaN NaN NaN NaN NaN NaN  ...   \n\n           adjusted_daily_returns                                          \\\nticker                        DBC       EEM       EFA      IGOV       IJH   \nprice_date                                                                  \n2000-05-26                    NaN       NaN       NaN       NaN       NaN   \n2000-05-30                    NaN       NaN       NaN       NaN  0.038987   \n2000-05-31                    NaN       NaN       NaN       NaN -0.001645   \n2000-06-01                    NaN       NaN       NaN       NaN  0.018133   \n2000-06-02                    NaN       NaN       NaN       NaN  0.038860   \n...                           ...       ...       ...       ...       ...   \n2024-03-18               0.009227  0.001717 -0.000253 -0.002511 -0.002223   \n2024-03-19              -0.000435 -0.004897  0.001775 -0.001762  0.007885   \n2024-03-20              -0.002613  0.011319  0.010632  0.006053  0.013605   \n2024-03-21              -0.001310  0.001217 -0.000501 -0.003510  0.010767   \n2024-03-22              -0.006996 -0.007047 -0.002130 -0.000503 -0.007989   \n\n                                                              \nticker           IJR       RWR       SHY       VAW        VV  \nprice_date                                                    \n2000-05-26       NaN       NaN       NaN       NaN       NaN  \n2000-05-30  0.019921       NaN       NaN       NaN       NaN  \n2000-05-31  0.019532       NaN       NaN       NaN       NaN  \n2000-06-01  0.023241       NaN       NaN       NaN       NaN  \n2000-06-02  0.028545       NaN       NaN       NaN       NaN  \n...              ...       ...       ...       ...       ...  \n2024-03-18 -0.003205  0.000391  0.000123  0.000201  0.006177  \n2024-03-19  0.006904 -0.000217  0.000859  0.002366  0.004615  \n2024-03-20  0.016532  0.006300  0.001594  0.011297  0.010241  \n2024-03-21  0.011641  0.006477  0.000000  0.005064  0.003212  \n2024-03-22 -0.012643 -0.013942  0.000734 -0.009831 -0.004865  \n\n[5993 rows x 22 columns]",
      "text/html": "<div>\n<style scoped>\n    .dataframe tbody tr th:only-of-type {\n        vertical-align: middle;\n    }\n\n    .dataframe tbody tr th {\n        vertical-align: top;\n    }\n\n    .dataframe thead tr th {\n        text-align: left;\n    }\n\n    .dataframe thead tr:last-of-type th {\n        text-align: right;\n    }\n</style>\n<table border=\"1\" class=\"dataframe\">\n  <thead>\n    <tr>\n      <th></th>\n      <th colspan=\"10\" halign=\"left\">correlation</th>\n      <th>...</th>\n      <th colspan=\"10\" halign=\"left\">adjusted_daily_returns</th>\n    </tr>\n    <tr>\n      <th>ticker</th>\n      <th>AGG</th>\n      <th>DBC</th>\n      <th>EEM</th>\n      <th>EFA</th>\n      <th>IGOV</th>\n      <th>IJH</th>\n      <th>IJR</th>\n      <th>RWR</th>\n      <th>SHY</th>\n      <th>VAW</th>\n      <th>...</th>\n      <th>DBC</th>\n      <th>EEM</th>\n      <th>EFA</th>\n      <th>IGOV</th>\n      <th>IJH</th>\n      <th>IJR</th>\n      <th>RWR</th>\n      <th>SHY</th>\n      <th>VAW</th>\n      <th>VV</th>\n    </tr>\n    <tr>\n      <th>price_date</th>\n      <th></th>\n      <th></th>\n      <th></th>\n      <th></th>\n      <th></th>\n      <th></th>\n      <th></th>\n      <th></th>\n      <th></th>\n      <th></th>\n      <th></th>\n      <th></th>\n      <th></th>\n      <th></th>\n      <th></th>\n      <th></th>\n      <th></th>\n      <th></th>\n      <th></th>\n      <th></th>\n      <th></th>\n    </tr>\n  </thead>\n  <tbody>\n    <tr>\n      <th>2000-05-26</th>\n      <td>NaN</td>\n      <td>NaN</td>\n      <td>NaN</td>\n      <td>NaN</td>\n      <td>NaN</td>\n      <td>NaN</td>\n      <td>NaN</td>\n      <td>NaN</td>\n      <td>NaN</td>\n      <td>NaN</td>\n      <td>...</td>\n      <td>NaN</td>\n      <td>NaN</td>\n      <td>NaN</td>\n      <td>NaN</td>\n      <td>NaN</td>\n      <td>NaN</td>\n      <td>NaN</td>\n      <td>NaN</td>\n      <td>NaN</td>\n      <td>NaN</td>\n    </tr>\n    <tr>\n      <th>2000-05-30</th>\n      <td>NaN</td>\n      <td>NaN</td>\n      <td>NaN</td>\n      <td>NaN</td>\n      <td>NaN</td>\n      <td>NaN</td>\n      <td>NaN</td>\n      <td>NaN</td>\n      <td>NaN</td>\n      <td>NaN</td>\n      <td>...</td>\n      <td>NaN</td>\n      <td>NaN</td>\n      <td>NaN</td>\n      <td>NaN</td>\n      <td>0.038987</td>\n      <td>0.019921</td>\n      <td>NaN</td>\n      <td>NaN</td>\n      <td>NaN</td>\n      <td>NaN</td>\n    </tr>\n    <tr>\n      <th>2000-05-31</th>\n      <td>NaN</td>\n      <td>NaN</td>\n      <td>NaN</td>\n      <td>NaN</td>\n      <td>NaN</td>\n      <td>NaN</td>\n      <td>NaN</td>\n      <td>NaN</td>\n      <td>NaN</td>\n      <td>NaN</td>\n      <td>...</td>\n      <td>NaN</td>\n      <td>NaN</td>\n      <td>NaN</td>\n      <td>NaN</td>\n      <td>-0.001645</td>\n      <td>0.019532</td>\n      <td>NaN</td>\n      <td>NaN</td>\n      <td>NaN</td>\n      <td>NaN</td>\n    </tr>\n    <tr>\n      <th>2000-06-01</th>\n      <td>NaN</td>\n      <td>NaN</td>\n      <td>NaN</td>\n      <td>NaN</td>\n      <td>NaN</td>\n      <td>NaN</td>\n      <td>NaN</td>\n      <td>NaN</td>\n      <td>NaN</td>\n      <td>NaN</td>\n      <td>...</td>\n      <td>NaN</td>\n      <td>NaN</td>\n      <td>NaN</td>\n      <td>NaN</td>\n      <td>0.018133</td>\n      <td>0.023241</td>\n      <td>NaN</td>\n      <td>NaN</td>\n      <td>NaN</td>\n      <td>NaN</td>\n    </tr>\n    <tr>\n      <th>2000-06-02</th>\n      <td>NaN</td>\n      <td>NaN</td>\n      <td>NaN</td>\n      <td>NaN</td>\n      <td>NaN</td>\n      <td>NaN</td>\n      <td>NaN</td>\n      <td>NaN</td>\n      <td>NaN</td>\n      <td>NaN</td>\n      <td>...</td>\n      <td>NaN</td>\n      <td>NaN</td>\n      <td>NaN</td>\n      <td>NaN</td>\n      <td>0.038860</td>\n      <td>0.028545</td>\n      <td>NaN</td>\n      <td>NaN</td>\n      <td>NaN</td>\n      <td>NaN</td>\n    </tr>\n    <tr>\n      <th>...</th>\n      <td>...</td>\n      <td>...</td>\n      <td>...</td>\n      <td>...</td>\n      <td>...</td>\n      <td>...</td>\n      <td>...</td>\n      <td>...</td>\n      <td>...</td>\n      <td>...</td>\n      <td>...</td>\n      <td>...</td>\n      <td>...</td>\n      <td>...</td>\n      <td>...</td>\n      <td>...</td>\n      <td>...</td>\n      <td>...</td>\n      <td>...</td>\n      <td>...</td>\n      <td>...</td>\n    </tr>\n    <tr>\n      <th>2024-03-18</th>\n      <td>NaN</td>\n      <td>NaN</td>\n      <td>NaN</td>\n      <td>NaN</td>\n      <td>NaN</td>\n      <td>NaN</td>\n      <td>NaN</td>\n      <td>NaN</td>\n      <td>NaN</td>\n      <td>NaN</td>\n      <td>...</td>\n      <td>0.009227</td>\n      <td>0.001717</td>\n      <td>-0.000253</td>\n      <td>-0.002511</td>\n      <td>-0.002223</td>\n      <td>-0.003205</td>\n      <td>0.000391</td>\n      <td>0.000123</td>\n      <td>0.000201</td>\n      <td>0.006177</td>\n    </tr>\n    <tr>\n      <th>2024-03-19</th>\n      <td>NaN</td>\n      <td>NaN</td>\n      <td>NaN</td>\n      <td>NaN</td>\n      <td>NaN</td>\n      <td>NaN</td>\n      <td>NaN</td>\n      <td>NaN</td>\n      <td>NaN</td>\n      <td>NaN</td>\n      <td>...</td>\n      <td>-0.000435</td>\n      <td>-0.004897</td>\n      <td>0.001775</td>\n      <td>-0.001762</td>\n      <td>0.007885</td>\n      <td>0.006904</td>\n      <td>-0.000217</td>\n      <td>0.000859</td>\n      <td>0.002366</td>\n      <td>0.004615</td>\n    </tr>\n    <tr>\n      <th>2024-03-20</th>\n      <td>NaN</td>\n      <td>NaN</td>\n      <td>NaN</td>\n      <td>NaN</td>\n      <td>NaN</td>\n      <td>NaN</td>\n      <td>NaN</td>\n      <td>NaN</td>\n      <td>NaN</td>\n      <td>NaN</td>\n      <td>...</td>\n      <td>-0.002613</td>\n      <td>0.011319</td>\n      <td>0.010632</td>\n      <td>0.006053</td>\n      <td>0.013605</td>\n      <td>0.016532</td>\n      <td>0.006300</td>\n      <td>0.001594</td>\n      <td>0.011297</td>\n      <td>0.010241</td>\n    </tr>\n    <tr>\n      <th>2024-03-21</th>\n      <td>NaN</td>\n      <td>NaN</td>\n      <td>NaN</td>\n      <td>NaN</td>\n      <td>NaN</td>\n      <td>NaN</td>\n      <td>NaN</td>\n      <td>NaN</td>\n      <td>NaN</td>\n      <td>NaN</td>\n      <td>...</td>\n      <td>-0.001310</td>\n      <td>0.001217</td>\n      <td>-0.000501</td>\n      <td>-0.003510</td>\n      <td>0.010767</td>\n      <td>0.011641</td>\n      <td>0.006477</td>\n      <td>0.000000</td>\n      <td>0.005064</td>\n      <td>0.003212</td>\n    </tr>\n    <tr>\n      <th>2024-03-22</th>\n      <td>NaN</td>\n      <td>NaN</td>\n      <td>NaN</td>\n      <td>NaN</td>\n      <td>NaN</td>\n      <td>NaN</td>\n      <td>NaN</td>\n      <td>NaN</td>\n      <td>NaN</td>\n      <td>NaN</td>\n      <td>...</td>\n      <td>-0.006996</td>\n      <td>-0.007047</td>\n      <td>-0.002130</td>\n      <td>-0.000503</td>\n      <td>-0.007989</td>\n      <td>-0.012643</td>\n      <td>-0.013942</td>\n      <td>0.000734</td>\n      <td>-0.009831</td>\n      <td>-0.004865</td>\n    </tr>\n  </tbody>\n</table>\n<p>5993 rows × 22 columns</p>\n</div>"
     },
     "execution_count": 7,
     "metadata": {},
     "output_type": "execute_result"
    }
   ],
   "source": [
    "import pandas as pd\n",
    "pd.set_option('display.max_rows', 500)"
   ]
  },
  {
   "cell_type": "code",
   "execution_count": null,
   "id": "7f5705bcb5ca9515",
   "metadata": {
    "collapsed": false
   },
   "outputs": [],
   "source": [
    "\n",
    "\n",
    "\n",
    "def calculate_ATR(df):\n",
    "    pass\n",
    "\n",
    "def rank_signals(df, columns_to_rank):\n",
    "    pass"
   ]
  }
 ],
 "metadata": {
  "kernelspec": {
   "display_name": "Python 3",
   "language": "python",
   "name": "python3"
  },
  "language_info": {
   "codemirror_mode": {
    "name": "ipython",
    "version": 3
   },
   "file_extension": ".py",
   "mimetype": "text/x-python",
   "name": "python",
   "nbconvert_exporter": "python",
   "pygments_lexer": "ipython3",
   "version": "3.12.2"
  }
 },
 "nbformat": 4,
 "nbformat_minor": 5
}
