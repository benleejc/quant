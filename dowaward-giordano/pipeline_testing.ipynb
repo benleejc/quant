{
 "cells": [
  {
   "cell_type": "code",
   "execution_count": 2,
   "id": "initial_id",
   "metadata": {
    "ExecuteTime": {
     "end_time": "2024-01-17T15:07:22.395958Z",
     "start_time": "2024-01-17T15:07:21.924958Z"
    },
    "collapsed": true
   },
   "outputs": [],
   "source": [
    "from data.data_pipelines import etl_dowaward_giordano"
   ]
  },
  {
   "cell_type": "code",
   "execution_count": 3,
   "id": "330b332e55374b0a",
   "metadata": {
    "ExecuteTime": {
     "end_time": "2024-01-18T07:05:00.783541Z",
     "start_time": "2024-01-18T07:05:00.778188Z"
    },
    "collapsed": false
   },
   "outputs": [
    {
     "name": "stdout",
     "output_type": "stream",
     "text": [
      "The autoreload extension is already loaded. To reload it, use:\n",
      "  %reload_ext autoreload\n"
     ]
    }
   ],
   "source": [
    "%load_ext autoreload\n",
    "%autoreload 2"
   ]
  },
  {
   "cell_type": "code",
   "execution_count": 78,
   "id": "5c7a788a6a8a6174",
   "metadata": {
    "ExecuteTime": {
     "end_time": "2024-01-18T01:55:34.592783Z",
     "start_time": "2024-01-18T01:55:34.565599Z"
    },
    "collapsed": false
   },
   "outputs": [],
   "source": [
    "df = etl_dowaward_giordano()"
   ]
  },
  {
   "cell_type": "code",
   "execution_count": null,
   "id": "7f5705bcb5ca9515",
   "metadata": {
    "collapsed": false
   },
   "outputs": [],
   "source": [
    "def calculate_correlation(df):\n",
    "    # TODO aveage relative correlation calculation\n",
    "    pass\n",
    "\n",
    "def calculate_ATR(df):\n",
    "    pass\n",
    "\n",
    "def rank_signals(df, columns_to_rank):\n",
    "    pass"
   ]
  }
 ],
 "metadata": {
  "kernelspec": {
   "display_name": "Python 3",
   "language": "python",
   "name": "python3"
  },
  "language_info": {
   "codemirror_mode": {
    "name": "ipython",
    "version": 3
   },
   "file_extension": ".py",
   "mimetype": "text/x-python",
   "name": "python",
   "nbconvert_exporter": "python",
   "pygments_lexer": "ipython3",
   "version": "3.11.1"
  }
 },
 "nbformat": 4,
 "nbformat_minor": 5
}
